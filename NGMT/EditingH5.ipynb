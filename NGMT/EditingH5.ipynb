{
 "cells": [
  {
   "metadata": {},
   "cell_type": "markdown",
   "source": [
    "# <div align=\"center\">  \n",
    "# Adding Attributes"
   ],
   "id": "c62ad2e9b8268f9"
  },
  {
   "metadata": {},
   "cell_type": "markdown",
   "source": "## Checking Attributes",
   "id": "be5db56c4a220045"
  },
  {
   "cell_type": "code",
   "id": "initial_id",
   "metadata": {
    "collapsed": true,
    "ExecuteTime": {
     "end_time": "2024-08-01T23:30:48.391355Z",
     "start_time": "2024-08-01T23:30:48.385842Z"
    }
   },
   "source": "import h5py",
   "outputs": [],
   "execution_count": 14
  },
  {
   "metadata": {
    "ExecuteTime": {
     "end_time": "2024-08-01T23:30:49.442892Z",
     "start_time": "2024-08-01T23:30:49.437183Z"
    }
   },
   "cell_type": "code",
   "source": "file_path = '20220218-131956-P_009_TM_16.h5'",
   "id": "3c6bab9cef7b2911",
   "outputs": [],
   "execution_count": 15
  },
  {
   "metadata": {
    "ExecuteTime": {
     "end_time": "2024-08-01T23:30:50.589799Z",
     "start_time": "2024-08-01T23:30:50.578197Z"
    }
   },
   "cell_type": "code",
   "source": [
    "\n",
    "# Open the H5 file in read mode\n",
    "with h5py.File(file_path, 'r') as file:\n",
    "    # List attributes of the root group\n",
    "    root_attributes = list(file.attrs.keys())\n",
    "    print(\"Attributes of the root group:\")\n",
    "    for attr in root_attributes:\n",
    "        print(f\"{attr}: {file.attrs[attr]}\")\n"
   ],
   "id": "c0ae54f313b4476a",
   "outputs": [
    {
     "name": "stdout",
     "output_type": "stream",
     "text": [
      "Attributes of the root group:\n",
      "CaseIdList: ['Subject 1' 'Experiment Name']\n",
      "FileFormatVersion: 5\n",
      "MonitorLabelList: ['Accelerometer_X' 'Accelerometer_Y' 'Accelerometer_Z' 'Gyroscope_X'\n",
      " 'Gyroscope_Y' 'Gyroscope_Z' 'Magnetometer_X' 'Magnetometer_Y'\n",
      " 'Magnetometer_Z' 'Temperature']\n"
     ]
    }
   ],
   "execution_count": 16
  },
  {
   "metadata": {},
   "cell_type": "markdown",
   "source": "## Editing Attributes",
   "id": "7556038db5c37cde"
  },
  {
   "metadata": {
    "ExecuteTime": {
     "end_time": "2024-08-01T23:35:16.830366Z",
     "start_time": "2024-08-01T23:35:16.800496Z"
    }
   },
   "cell_type": "code",
   "source": [
    "def list_attributes(file_path):\n",
    "    \"\"\"List and print the attributes of the root group in an HDF5 file.\"\"\"\n",
    "    with h5py.File(file_path, 'r') as file:\n",
    "        root_attributes = list(file.attrs.keys())\n",
    "        print(\"Attributes of the root group:\")\n",
    "        for attr in root_attributes:\n",
    "            print(f\"{attr}: {file.attrs[attr]}\")\n",
    "\n",
    "def add_or_edit_attribute(file_path, attribute_name, attribute_value):\n",
    "    \"\"\"Add or edit an attribute in the root group of an HDF5 file.\"\"\"\n",
    "    with h5py.File(file_path, 'a') as file:\n",
    "        file.attrs[attribute_name] = attribute_value\n",
    "        print(f\"Added/Updated attribute '{attribute_name}' with value: {attribute_value}\")\n",
    "\n",
    "def main():\n",
    "    # Define the file path\n",
    "    file_path = '20220218-131956-P_009_TM_16.h5'\n",
    "\n",
    "    # List existing attributes\n",
    "    print(\"Initial attributes:\")\n",
    "    list_attributes(file_path)\n",
    "\n",
    "    # Define new attribute values\n",
    "    case_id_list = [\"Subject 1\", \"Experiment Name\"]\n",
    "    monitor_label_list = [\n",
    "        'Accelerometer_X', 'Accelerometer_Y', 'Accelerometer_Z',\n",
    "        'Gyroscope_X', 'Gyroscope_Y', 'Gyroscope_Z',\n",
    "        'Magnetometer_X', 'Magnetometer_Y', 'Magnetometer_Z',\n",
    "        'Temperature'\n",
    "    ]\n",
    "\n",
    "    # Add or edit attributes\n",
    "    add_or_edit_attribute(file_path, 'CaseIdList', case_id_list)\n",
    "    add_or_edit_attribute(file_path, 'MonitorLabelList', monitor_label_list)\n",
    "\n",
    "    # Verify changes\n",
    "    print(\"\\nUpdated attributes:\")\n",
    "    list_attributes(file_path)\n",
    "\n",
    "if __name__ == \"__main__\":\n",
    "    main()\n"
   ],
   "id": "ee05a5a0226eacc6",
   "outputs": [
    {
     "name": "stdout",
     "output_type": "stream",
     "text": [
      "Initial attributes:\n",
      "Attributes of the root group:\n",
      "CaseIdList: ['Subject 1' 'Experiment Name']\n",
      "FileFormatVersion: 5\n",
      "MonitorLabelList: ['Accelerometer_X' 'Accelerometer_Y' 'Accelerometer_Z' 'Gyroscope_X'\n",
      " 'Gyroscope_Y' 'Gyroscope_Z' 'Magnetometer_X' 'Magnetometer_Y'\n",
      " 'Magnetometer_Z' 'Temperature']\n",
      "Added/Updated attribute 'CaseIdList' with value: ['Subject 1', 'Experiment Name']\n",
      "Added/Updated attribute 'MonitorLabelList' with value: ['Accelerometer_X', 'Accelerometer_Y', 'Accelerometer_Z', 'Gyroscope_X', 'Gyroscope_Y', 'Gyroscope_Z', 'Magnetometer_X', 'Magnetometer_Y', 'Magnetometer_Z', 'Temperature']\n",
      "\n",
      "Updated attributes:\n",
      "Attributes of the root group:\n",
      "CaseIdList: ['Subject 1' 'Experiment Name']\n",
      "FileFormatVersion: 5\n",
      "MonitorLabelList: ['Accelerometer_X' 'Accelerometer_Y' 'Accelerometer_Z' 'Gyroscope_X'\n",
      " 'Gyroscope_Y' 'Gyroscope_Z' 'Magnetometer_X' 'Magnetometer_Y'\n",
      " 'Magnetometer_Z' 'Temperature']\n"
     ]
    }
   ],
   "execution_count": 19
  }
 ],
 "metadata": {
  "kernelspec": {
   "display_name": "Python 3",
   "language": "python",
   "name": "python3"
  },
  "language_info": {
   "codemirror_mode": {
    "name": "ipython",
    "version": 2
   },
   "file_extension": ".py",
   "mimetype": "text/x-python",
   "name": "python",
   "nbconvert_exporter": "python",
   "pygments_lexer": "ipython2",
   "version": "2.7.6"
  }
 },
 "nbformat": 4,
 "nbformat_minor": 5
}
