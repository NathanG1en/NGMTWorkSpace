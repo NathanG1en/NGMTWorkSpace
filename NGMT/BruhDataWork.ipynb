{
 "cells": [
  {
   "cell_type": "code",
   "execution_count": 7,
   "id": "6cb70793",
   "metadata": {},
   "outputs": [
    {
     "name": "stdout",
     "output_type": "stream",
     "text": [
      "Requirement already satisfied: h5py in /Users/nathanglen/anaconda3/lib/python3.11/site-packages (3.11.0)\r\n",
      "Requirement already satisfied: numpy>=1.17.3 in /Users/nathanglen/anaconda3/lib/python3.11/site-packages (from h5py) (1.26.4)\r\n"
     ]
    }
   ],
   "source": [
    "!pip install h5py"
   ]
  },
  {
   "cell_type": "code",
   "execution_count": 8,
   "id": "41bc399d",
   "metadata": {},
   "outputs": [],
   "source": [
    "import pandas as pd \n",
    "import numpy as np\n",
    "import matplotlib as plt\n",
    "import ngmt\n",
    "import h5py"
   ]
  },
  {
   "cell_type": "code",
   "execution_count": 12,
   "id": "55c362c1",
   "metadata": {},
   "outputs": [],
   "source": [
    "import actipy\n",
    "import h5py\n",
    "import numpy as np\n",
    "from ngmt.utils.ngmt_dataclass import NGMTRecording\n",
    "from ngmt.utils.file_io import get_unit_from_type\n",
    "import pandas as pd\n",
    "from pathlib import Path"
   ]
  },
  {
   "cell_type": "code",
   "execution_count": 13,
   "id": "8c6efb1f",
   "metadata": {},
   "outputs": [],
   "source": [
    "from ngmt.utils.importers import * \n",
    "from ngmt.config import * "
   ]
  },
  {
   "cell_type": "code",
   "execution_count": 24,
   "id": "4f9b968e",
   "metadata": {},
   "outputs": [],
   "source": [
    "def import_mobilityLab(\n",
    "    file_name: str | Path,\n",
    "    tracked_points: str | list[str],\n",
    ") -> tuple[pd.DataFrame, pd.DataFrame]:\n",
    "    \"\"\"\n",
    "    Imports data from an APDM Mobility Lab system from the specified file path.\n",
    "\n",
    "    Args:\n",
    "        file_name (str or Path): The absolute or relative path to the data file.\n",
    "        tracked_point (str or list of str]):\n",
    "            Defines for which tracked points data are to be returned.\n",
    "\n",
    "    Returns:\n",
    "        dict, dict: The loaded data and channels as dictionaries.\n",
    "\n",
    "    Examples:\n",
    "        >>> file_path = \"/path/to/sensor_data.h5\"\n",
    "        >>> tracked_point = \"Lumbar\"\n",
    "        >>> recording = import_mobilityLab(file_path, tracked_point)\n",
    "    \"\"\"\n",
    "    # Convert file_name to a Path object if it is a string\n",
    "    if isinstance(file_name, str):\n",
    "        file_name = Path(file_name)\n",
    "\n",
    "    # Convert tracked_points into a list if the it is provided as a string\n",
    "    if isinstance(tracked_points, str):\n",
    "        tracked_points = [tracked_points]\n",
    "\n",
    "    with h5py.File(file_name, \"r\") as hfile:\n",
    "        # Get monitor labels and case IDs\n",
    "        monitor_labels = hfile.attrs[\"MonitorLabelList\"]\n",
    "        monitor_labels = [s.decode(\"UTF-8\").strip() for s in monitor_labels]\n",
    "        case_ids = hfile.attrs[\"CaseIdList\"]\n",
    "        case_ids = [s.decode(\"UTF-8\")[:9] for s in case_ids]\n",
    "\n",
    "        # Track invalid tracked points\n",
    "        invalid_tracked_points = [\n",
    "            tp for tp in tracked_points if tp not in monitor_labels\n",
    "        ]\n",
    "\n",
    "        if invalid_tracked_points:\n",
    "            raise ValueError(\n",
    "                f\"The following tracked points do not exist in monitor labels: {invalid_tracked_points}\"\n",
    "            )\n",
    "\n",
    "        # Initialize dictionaries to store channels and data frames\n",
    "        channels_dict = {\n",
    "            \"name\": [],\n",
    "            \"component\": [],\n",
    "            \"type\": [],\n",
    "            \"tracked_point\": [],\n",
    "            \"units\": [],\n",
    "            \"sampling_frequency\": [],\n",
    "        }\n",
    "\n",
    "        # Create dictionary to store data\n",
    "        data_dict = {}\n",
    "\n",
    "        # Iterate over each sensor\n",
    "        for idx_sensor, (monitor_label, case_id) in enumerate(\n",
    "            zip(monitor_labels, case_ids)\n",
    "        ):\n",
    "            if monitor_label not in tracked_points:\n",
    "                continue  # to next sensor name\n",
    "            sample_rate = hfile[case_id].attrs[\"SampleRate\"]\n",
    "\n",
    "            # Get raw data\n",
    "            rawAcc = hfile[case_id][\"Calibrated\"][\"Accelerometers\"][:]\n",
    "            rawGyro = hfile[case_id][\"Calibrated\"][\"Gyroscopes\"][:]\n",
    "            rawMagn = hfile[case_id][\"Calibrated\"][\"Magnetometers\"][:]\n",
    "\n",
    "            # Populate data_dict\n",
    "            data_dict[f\"{monitor_label}\"] = pd.DataFrame(\n",
    "                {\n",
    "                    f\"{monitor_label}_ACCEL_x\": rawAcc[:, 0],\n",
    "                    f\"{monitor_label}_ACCEL_y\": rawAcc[:, 1],\n",
    "                    f\"{monitor_label}_ACCEL_z\": rawAcc[:, 2],\n",
    "                    f\"{monitor_label}_GYRO_x\": rawGyro[:, 0],\n",
    "                    f\"{monitor_label}_GYRO_y\": rawGyro[:, 1],\n",
    "                    f\"{monitor_label}_GYRO_z\": rawGyro[:, 2],\n",
    "                    f\"{monitor_label}_MAGN_x\": rawMagn[:, 0],\n",
    "                    f\"{monitor_label}_MAGN_y\": rawMagn[:, 1],\n",
    "                    f\"{monitor_label}_MAGN_z\": rawMagn[:, 2],\n",
    "                }\n",
    "            )\n",
    "\n",
    "            # Extend lists in channels_dict\n",
    "            channels_dict[\"name\"].extend(\n",
    "                [\n",
    "                    f\"{monitor_label}_ACCEL_x\",\n",
    "                    f\"{monitor_label}_ACCEL_y\",\n",
    "                    f\"{monitor_label}_ACCEL_z\",\n",
    "                    f\"{monitor_label}_GYRO_x\",\n",
    "                    f\"{monitor_label}_GYRO_y\",\n",
    "                    f\"{monitor_label}_GYRO_z\",\n",
    "                    f\"{monitor_label}_MAGN_x\",\n",
    "                    f\"{monitor_label}_MAGN_y\",\n",
    "                    f\"{monitor_label}_MAGN_z\",\n",
    "                ]\n",
    "            )\n",
    "\n",
    "            channels_dict[\"component\"].extend([\"x\", \"y\", \"z\"] * 3)\n",
    "            channels_dict[\"type\"].extend(\n",
    "                [\n",
    "                    \"ACCEL\",\n",
    "                    \"ACCEL\",\n",
    "                    \"ACCEL\",\n",
    "                    \"GYRO\",\n",
    "                    \"GYRO\",\n",
    "                    \"GYRO\",\n",
    "                    \"MAGN\",\n",
    "                    \"MAGN\",\n",
    "                    \"MAGN\",\n",
    "                ]\n",
    "            )\n",
    "            channels_dict[\"tracked_point\"].extend([monitor_label] * 9)\n",
    "            channels_dict[\"units\"].extend(\n",
    "                [\"m/s^2\", \"m/s^2\", \"m/s^2\", \"rad/s\", \"rad/s\", \"rad/s\", \"µT\", \"µT\", \"µT\"]\n",
    "            )\n",
    "            channels_dict[\"sampling_frequency\"].extend([sample_rate] * 9)\n",
    "\n",
    "    # Concatenate data frames from data_dict\n",
    "    data = pd.concat(list(data_dict.values()), axis=1)\n",
    "\n",
    "    # Create DataFrame from channels_dict\n",
    "    channels = pd.DataFrame(channels_dict)\n",
    "\n",
    "    return data, channels"
   ]
  },
  {
   "cell_type": "code",
   "execution_count": 25,
   "id": "d03c7439",
   "metadata": {},
   "outputs": [
    {
     "ename": "KeyError",
     "evalue": "\"Can't open attribute (can't locate attribute: 'CaseIdList')\"",
     "output_type": "error",
     "traceback": [
      "\u001b[0;31m---------------------------------------------------------------------------\u001b[0m",
      "\u001b[0;31mKeyError\u001b[0m                                  Traceback (most recent call last)",
      "Cell \u001b[0;32mIn[25], line 3\u001b[0m\n\u001b[1;32m      1\u001b[0m file_path \u001b[38;5;241m=\u001b[39m \u001b[38;5;124m\"\u001b[39m\u001b[38;5;124m20220218-120638-P_009_OG_08.h5\u001b[39m\u001b[38;5;124m\"\u001b[39m\n\u001b[1;32m      2\u001b[0m tracked_point \u001b[38;5;241m=\u001b[39m \u001b[38;5;124m\"\u001b[39m\u001b[38;5;124mlowerBack\u001b[39m\u001b[38;5;124m\"\u001b[39m\n\u001b[0;32m----> 3\u001b[0m recording \u001b[38;5;241m=\u001b[39m import_mobilityLab(file_path, tracked_point)\n",
      "Cell \u001b[0;32mIn[24], line 33\u001b[0m, in \u001b[0;36mimport_mobilityLab\u001b[0;34m(file_name, tracked_points)\u001b[0m\n\u001b[1;32m     27\u001b[0m         tracked_points \u001b[38;5;241m=\u001b[39m [tracked_points]\n\u001b[1;32m     29\u001b[0m     \u001b[38;5;28;01mwith\u001b[39;00m h5py\u001b[38;5;241m.\u001b[39mFile(file_name, \u001b[38;5;124m\"\u001b[39m\u001b[38;5;124mr\u001b[39m\u001b[38;5;124m\"\u001b[39m) \u001b[38;5;28;01mas\u001b[39;00m hfile:\n\u001b[1;32m     30\u001b[0m         \u001b[38;5;66;03m# Get monitor labels and case IDs\u001b[39;00m\n\u001b[1;32m     31\u001b[0m \u001b[38;5;66;03m#         monitor_labels = hfile.attrs[\"MonitorLabelList\"]\u001b[39;00m\n\u001b[1;32m     32\u001b[0m \u001b[38;5;66;03m#         monitor_labels = [s.decode(\"UTF-8\").strip() for s in monitor_labels]\u001b[39;00m\n\u001b[0;32m---> 33\u001b[0m         case_ids \u001b[38;5;241m=\u001b[39m hfile\u001b[38;5;241m.\u001b[39mattrs[\u001b[38;5;124m\"\u001b[39m\u001b[38;5;124mCaseIdList\u001b[39m\u001b[38;5;124m\"\u001b[39m]\n\u001b[1;32m     34\u001b[0m         case_ids \u001b[38;5;241m=\u001b[39m [s\u001b[38;5;241m.\u001b[39mdecode(\u001b[38;5;124m\"\u001b[39m\u001b[38;5;124mUTF-8\u001b[39m\u001b[38;5;124m\"\u001b[39m)[:\u001b[38;5;241m9\u001b[39m] \u001b[38;5;28;01mfor\u001b[39;00m s \u001b[38;5;129;01min\u001b[39;00m case_ids]\n\u001b[1;32m     36\u001b[0m         \u001b[38;5;66;03m# Track invalid tracked points\u001b[39;00m\n",
      "File \u001b[0;32mh5py/_objects.pyx:54\u001b[0m, in \u001b[0;36mh5py._objects.with_phil.wrapper\u001b[0;34m()\u001b[0m\n",
      "File \u001b[0;32mh5py/_objects.pyx:55\u001b[0m, in \u001b[0;36mh5py._objects.with_phil.wrapper\u001b[0;34m()\u001b[0m\n",
      "File \u001b[0;32m~/anaconda3/lib/python3.11/site-packages/h5py/_hl/attrs.py:56\u001b[0m, in \u001b[0;36mAttributeManager.__getitem__\u001b[0;34m(self, name)\u001b[0m\n\u001b[1;32m     52\u001b[0m \u001b[38;5;129m@with_phil\u001b[39m\n\u001b[1;32m     53\u001b[0m \u001b[38;5;28;01mdef\u001b[39;00m \u001b[38;5;21m__getitem__\u001b[39m(\u001b[38;5;28mself\u001b[39m, name):\n\u001b[1;32m     54\u001b[0m \u001b[38;5;250m    \u001b[39m\u001b[38;5;124;03m\"\"\" Read the value of an attribute.\u001b[39;00m\n\u001b[1;32m     55\u001b[0m \u001b[38;5;124;03m    \"\"\"\u001b[39;00m\n\u001b[0;32m---> 56\u001b[0m     attr \u001b[38;5;241m=\u001b[39m h5a\u001b[38;5;241m.\u001b[39mopen(\u001b[38;5;28mself\u001b[39m\u001b[38;5;241m.\u001b[39m_id, \u001b[38;5;28mself\u001b[39m\u001b[38;5;241m.\u001b[39m_e(name))\n\u001b[1;32m     57\u001b[0m     shape \u001b[38;5;241m=\u001b[39m attr\u001b[38;5;241m.\u001b[39mshape\n\u001b[1;32m     59\u001b[0m     \u001b[38;5;66;03m# shape is None for empty dataspaces\u001b[39;00m\n",
      "File \u001b[0;32mh5py/_objects.pyx:54\u001b[0m, in \u001b[0;36mh5py._objects.with_phil.wrapper\u001b[0;34m()\u001b[0m\n",
      "File \u001b[0;32mh5py/_objects.pyx:55\u001b[0m, in \u001b[0;36mh5py._objects.with_phil.wrapper\u001b[0;34m()\u001b[0m\n",
      "File \u001b[0;32mh5py/h5a.pyx:80\u001b[0m, in \u001b[0;36mh5py.h5a.open\u001b[0;34m()\u001b[0m\n",
      "\u001b[0;31mKeyError\u001b[0m: \"Can't open attribute (can't locate attribute: 'CaseIdList')\""
     ]
    }
   ],
   "source": [
    "file_path = \"20220218-120638-P_009_OG_08.h5\"\n",
    "tracked_point = \"lowerBack\"\n",
    "recording = import_mobilityLab(file_path, tracked_point)\n",
    "\n"
   ]
  },
  {
   "cell_type": "code",
   "execution_count": 22,
   "id": "280d22b1",
   "metadata": {},
   "outputs": [
    {
     "ename": "KeyError",
     "evalue": "\"Unable to open object (object 'FileFormatVersion' doesn't exist)\"",
     "output_type": "error",
     "traceback": [
      "\u001b[0;31m---------------------------------------------------------------------------\u001b[0m",
      "\u001b[0;31mKeyError\u001b[0m                                  Traceback (most recent call last)",
      "Cell \u001b[0;32mIn[22], line 11\u001b[0m\n\u001b[1;32m      9\u001b[0m \u001b[38;5;28;01mwith\u001b[39;00m h5py\u001b[38;5;241m.\u001b[39mFile(\u001b[38;5;124m'\u001b[39m\u001b[38;5;124mBruhData.h5\u001b[39m\u001b[38;5;124m'\u001b[39m, \u001b[38;5;124m'\u001b[39m\u001b[38;5;124mr\u001b[39m\u001b[38;5;124m'\u001b[39m) \u001b[38;5;28;01mas\u001b[39;00m f:\n\u001b[1;32m     10\u001b[0m     \u001b[38;5;28;01mfor\u001b[39;00m attr \u001b[38;5;129;01min\u001b[39;00m f\u001b[38;5;241m.\u001b[39mattrs: \n\u001b[0;32m---> 11\u001b[0m         \u001b[38;5;28mprint\u001b[39m(f[attr])\n",
      "File \u001b[0;32mh5py/_objects.pyx:54\u001b[0m, in \u001b[0;36mh5py._objects.with_phil.wrapper\u001b[0;34m()\u001b[0m\n",
      "File \u001b[0;32mh5py/_objects.pyx:55\u001b[0m, in \u001b[0;36mh5py._objects.with_phil.wrapper\u001b[0;34m()\u001b[0m\n",
      "File \u001b[0;32m~/anaconda3/lib/python3.11/site-packages/h5py/_hl/group.py:357\u001b[0m, in \u001b[0;36mGroup.__getitem__\u001b[0;34m(self, name)\u001b[0m\n\u001b[1;32m    355\u001b[0m         \u001b[38;5;28;01mraise\u001b[39;00m \u001b[38;5;167;01mValueError\u001b[39;00m(\u001b[38;5;124m\"\u001b[39m\u001b[38;5;124mInvalid HDF5 object reference\u001b[39m\u001b[38;5;124m\"\u001b[39m)\n\u001b[1;32m    356\u001b[0m \u001b[38;5;28;01melif\u001b[39;00m \u001b[38;5;28misinstance\u001b[39m(name, (\u001b[38;5;28mbytes\u001b[39m, \u001b[38;5;28mstr\u001b[39m)):\n\u001b[0;32m--> 357\u001b[0m     oid \u001b[38;5;241m=\u001b[39m h5o\u001b[38;5;241m.\u001b[39mopen(\u001b[38;5;28mself\u001b[39m\u001b[38;5;241m.\u001b[39mid, \u001b[38;5;28mself\u001b[39m\u001b[38;5;241m.\u001b[39m_e(name), lapl\u001b[38;5;241m=\u001b[39m\u001b[38;5;28mself\u001b[39m\u001b[38;5;241m.\u001b[39m_lapl)\n\u001b[1;32m    358\u001b[0m \u001b[38;5;28;01melse\u001b[39;00m:\n\u001b[1;32m    359\u001b[0m     \u001b[38;5;28;01mraise\u001b[39;00m \u001b[38;5;167;01mTypeError\u001b[39;00m(\u001b[38;5;124m\"\u001b[39m\u001b[38;5;124mAccessing a group is done with bytes or str, \u001b[39m\u001b[38;5;124m\"\u001b[39m\n\u001b[1;32m    360\u001b[0m                     \u001b[38;5;124m\"\u001b[39m\u001b[38;5;124mnot \u001b[39m\u001b[38;5;132;01m{}\u001b[39;00m\u001b[38;5;124m\"\u001b[39m\u001b[38;5;241m.\u001b[39mformat(\u001b[38;5;28mtype\u001b[39m(name)))\n",
      "File \u001b[0;32mh5py/_objects.pyx:54\u001b[0m, in \u001b[0;36mh5py._objects.with_phil.wrapper\u001b[0;34m()\u001b[0m\n",
      "File \u001b[0;32mh5py/_objects.pyx:55\u001b[0m, in \u001b[0;36mh5py._objects.with_phil.wrapper\u001b[0;34m()\u001b[0m\n",
      "File \u001b[0;32mh5py/h5o.pyx:241\u001b[0m, in \u001b[0;36mh5py.h5o.open\u001b[0;34m()\u001b[0m\n",
      "\u001b[0;31mKeyError\u001b[0m: \"Unable to open object (object 'FileFormatVersion' doesn't exist)\""
     ]
    }
   ],
   "source": [
    "import h5py\n",
    "\n",
    "\n"
   ]
  },
  {
   "cell_type": "code",
   "execution_count": 28,
   "id": "7b8229e8",
   "metadata": {},
   "outputs": [
    {
     "name": "stdout",
     "output_type": "stream",
     "text": [
      "Visiting Annotations\n",
      "Visiting Processed\n",
      "Visiting Processed/6332\n",
      "Visiting Processed/6332/Orientation\n",
      "Visiting Sensors\n",
      "Visiting Sensors/6332\n",
      "Visiting Sensors/6332/Accelerometer\n",
      "Visiting Sensors/6332/Barometer\n",
      "Visiting Sensors/6332/Configuration\n",
      "Visiting Sensors/6332/Configuration/Config\n",
      "Visiting Sensors/6332/Configuration/Config Strings\n",
      "Visiting Sensors/6332/Configuration/Misc\n",
      "Visiting Sensors/6332/Gyroscope\n",
      "Visiting Sensors/6332/Magnetometer\n",
      "Visiting Sensors/6332/Metrics\n",
      "Visiting Sensors/6332/Metrics/Battery\n",
      "Visiting Sensors/6332/Metrics/Events\n",
      "Visiting Sensors/6332/Metrics/Mesh\n",
      "Visiting Sensors/6332/Metrics/States\n",
      "Visiting Sensors/6332/Metrics/Wireless\n",
      "Visiting Sensors/6332/Temperature\n",
      "Visiting Sensors/6332/Time\n"
     ]
    }
   ],
   "source": [
    "with h5py.File(file_path, 'r') as hdf:\n",
    "    # Function to recursively print attributes\n",
    "    def print_attributes(name, obj):\n",
    "        print(f\"Visiting {name}\")\n",
    "        for key, value in obj.attrs.items():\n",
    "            if key in ['MonitorLabelList', 'CaseidList']:\n",
    "                print(f\"  Attribute: {key} = {value}\")\n",
    "    \n",
    "    # Visit all nodes in the HDF5 file\n",
    "    hdf.visititems(print_attributes)"
   ]
  },
  {
   "cell_type": "code",
   "execution_count": null,
   "id": "46f5f69d",
   "metadata": {},
   "outputs": [],
   "source": []
  }
 ],
 "metadata": {
  "kernelspec": {
   "display_name": "Python 3 (ipykernel)",
   "language": "python",
   "name": "python3"
  },
  "language_info": {
   "codemirror_mode": {
    "name": "ipython",
    "version": 3
   },
   "file_extension": ".py",
   "mimetype": "text/x-python",
   "name": "python",
   "nbconvert_exporter": "python",
   "pygments_lexer": "ipython3",
   "version": "3.11.5"
  }
 },
 "nbformat": 4,
 "nbformat_minor": 5
}
